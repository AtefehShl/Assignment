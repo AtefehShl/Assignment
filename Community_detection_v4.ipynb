{
 "cells": [
  {
   "cell_type": "markdown",
   "id": "d738e9d4",
   "metadata": {},
   "source": [
    "### import Library"
   ]
  },
  {
   "cell_type": "code",
   "execution_count": 1,
   "id": "7c125c6d",
   "metadata": {},
   "outputs": [],
   "source": [
    "import networkx as ns\n",
    "#This module provides graphs in accordance with the specification contained in the LFR article[10].\n",
    "from networkx.generators.community import LFR_benchmark_graph\n",
    "import time"
   ]
  },
  {
   "cell_type": "markdown",
   "id": "0e19f34e",
   "metadata": {},
   "source": [
    "### create LFR graphs"
   ]
  },
  {
   "cell_type": "code",
   "execution_count": 2,
   "id": "21661e04",
   "metadata": {},
   "outputs": [],
   "source": [
    "n = 250\n",
    "tau1 = 3\n",
    "tau2 = 1.5\n",
    "mu = 0.1\n",
    "G_lfr_1 = LFR_benchmark_graph(n,tau1,tau2,mu,average_degree=5,min_community=20,seed=10)\n",
    "n = 350\n",
    "tau1 = 4\n",
    "tau2 = 1.5\n",
    "mu = 0.1\n",
    "G_lfr_2 = LFR_benchmark_graph(n,tau1,tau2,mu,average_degree=5,min_community=20,seed=10)\n",
    "n = 400\n",
    "tau1 = 3\n",
    "tau2 = 1.5\n",
    "mu = 0.1\n",
    "G_lfr_3 = LFR_benchmark_graph(n,tau1,tau2,mu,average_degree=5,min_community=20,seed=10)"
   ]
  },
  {
   "cell_type": "markdown",
   "id": "3c4ed343",
   "metadata": {},
   "source": [
    "### community detection based on Cluster Newman Moore(CNM)"
   ]
  },
  {
   "cell_type": "code",
   "execution_count": 3,
   "id": "35c8f1a0",
   "metadata": {},
   "outputs": [],
   "source": [
    "from networkx.algorithms.community import greedy_modularity_communities"
   ]
  },
  {
   "cell_type": "code",
   "execution_count": 4,
   "id": "19804388",
   "metadata": {},
   "outputs": [
    {
     "name": "stdout",
     "output_type": "stream",
     "text": [
      "experiment 1\n",
      "run time: 0.06183505058288574\n",
      "Number of community: 10\n"
     ]
    }
   ],
   "source": [
    "start_time = time.time()\n",
    "community = list(greedy_modularity_communities(G_lfr_1))\n",
    "end_time = time.time()\n",
    "print('experiment 1')\n",
    "print('run time:',end_time - start_time)\n",
    "print('Number of community:',len(community))"
   ]
  },
  {
   "cell_type": "code",
   "execution_count": 5,
   "id": "40950eda",
   "metadata": {},
   "outputs": [
    {
     "name": "stdout",
     "output_type": "stream",
     "text": [
      "experiment 2\n",
      "run time: 0.06781768798828125\n",
      "Number of community: 11\n"
     ]
    }
   ],
   "source": [
    "start_time = time.time()\n",
    "community = list(greedy_modularity_communities(G_lfr_2))\n",
    "end_time = time.time()\n",
    "print('experiment 2')\n",
    "print('run time:',end_time - start_time)\n",
    "print('Number of community:',len(community))"
   ]
  },
  {
   "cell_type": "code",
   "execution_count": 6,
   "id": "66e7a197",
   "metadata": {},
   "outputs": [
    {
     "name": "stdout",
     "output_type": "stream",
     "text": [
      "experiment 3\n",
      "run time: 0.05484294891357422\n",
      "Number of community: 18\n"
     ]
    }
   ],
   "source": [
    "start_time = time.time()\n",
    "community = list(greedy_modularity_communities(G_lfr_3))\n",
    "end_time = time.time()\n",
    "print('experiment 3')\n",
    "print('run time:',end_time - start_time)\n",
    "print('Number of community:',len(community))"
   ]
  },
  {
   "cell_type": "markdown",
   "id": "cbba7582",
   "metadata": {},
   "source": [
    "###  Community Detection based on Louvain Algorithm"
   ]
  },
  {
   "cell_type": "code",
   "execution_count": 7,
   "id": "8f788f81",
   "metadata": {},
   "outputs": [],
   "source": [
    "# pip install python-louvain\n",
    "from community import community_louvain"
   ]
  },
  {
   "cell_type": "code",
   "execution_count": 8,
   "id": "755af449",
   "metadata": {},
   "outputs": [
    {
     "name": "stdout",
     "output_type": "stream",
     "text": [
      "experiment 4\n",
      "run time: 0.032911062240600586\n",
      "Number of community: 9\n"
     ]
    }
   ],
   "source": [
    "start_time = time.time()\n",
    "communities = community_louvain.best_partition(G_lfr_1)\n",
    "end_time = time.time()\n",
    "print('experiment 4')\n",
    "print('run time:',end_time - start_time)\n",
    "print('Number of community:',len(set(val for val in list(communities.values()))))"
   ]
  },
  {
   "cell_type": "code",
   "execution_count": 9,
   "id": "fab29457",
   "metadata": {},
   "outputs": [
    {
     "name": "stdout",
     "output_type": "stream",
     "text": [
      "experiment 5\n",
      "run time: 0.04388165473937988\n",
      "Number of community: 11\n"
     ]
    }
   ],
   "source": [
    "start_time = time.time()\n",
    "communities = community_louvain.best_partition(G_lfr_2)\n",
    "end_time = time.time()\n",
    "print('experiment 5')\n",
    "print('run time:',end_time - start_time)\n",
    "print('Number of community:',len(set(val for val in list(communities.values()))))"
   ]
  },
  {
   "cell_type": "code",
   "execution_count": 10,
   "id": "62402568",
   "metadata": {},
   "outputs": [
    {
     "name": "stdout",
     "output_type": "stream",
     "text": [
      "experiment 6\n",
      "run time: 0.058896780014038086\n",
      "Number of community: 18\n"
     ]
    }
   ],
   "source": [
    "start_time = time.time()\n",
    "communities = community_louvain.best_partition(G_lfr_3)\n",
    "end_time = time.time()\n",
    "print('experiment 6')\n",
    "print('run time:',end_time - start_time)\n",
    "print('Number of community:',len(set(val for val in list(communities.values()))))"
   ]
  },
  {
   "cell_type": "markdown",
   "id": "fc402cbb",
   "metadata": {},
   "source": [
    "### Community Detection based on  Leiden Algorithm"
   ]
  },
  {
   "cell_type": "code",
   "execution_count": 11,
   "id": "5b9e5df8",
   "metadata": {},
   "outputs": [],
   "source": [
    "#pip install leidenalg\n",
    "#pip install igraph"
   ]
  },
  {
   "cell_type": "code",
   "execution_count": 12,
   "id": "20d047f2",
   "metadata": {},
   "outputs": [],
   "source": [
    "import leidenalg as lg\n",
    "import igraph as ig"
   ]
  },
  {
   "cell_type": "code",
   "execution_count": 13,
   "id": "c1e0bd8f",
   "metadata": {},
   "outputs": [],
   "source": [
    "#this package implements the Leiden algorithm but receives igraph object as a parameter,\n",
    "#and this function converts LFR Graph to igraph object\n",
    "def import_nx_network(net):\n",
    "    graph = ig.Graph(n=net.number_of_nodes(), directed=False)\n",
    "    graph.add_edges(net.edges())\n",
    "\n",
    "    return graph"
   ]
  },
  {
   "cell_type": "code",
   "execution_count": 14,
   "id": "6941868e",
   "metadata": {},
   "outputs": [
    {
     "name": "stdout",
     "output_type": "stream",
     "text": [
      "experiment 7\n",
      "run time: 0.0020215511322021484\n",
      "Number of community: 10\n"
     ]
    }
   ],
   "source": [
    "graph_lfr = import_nx_network(G_lfr_1)\n",
    "start_time = time.time()\n",
    "communities = lg.find_partition(graph_lfr,lg.ModularityVertexPartition)\n",
    "end_time = time.time()\n",
    "print('experiment 7')\n",
    "print('run time:',end_time - start_time)\n",
    "print('Number of community:',len(communities))"
   ]
  },
  {
   "cell_type": "code",
   "execution_count": 15,
   "id": "8a3f3a04",
   "metadata": {},
   "outputs": [
    {
     "name": "stdout",
     "output_type": "stream",
     "text": [
      "experiment 8\n",
      "run time: 0.0029926300048828125\n",
      "Number of community: 11\n"
     ]
    }
   ],
   "source": [
    "graph_lfr = import_nx_network(G_lfr_2)\n",
    "start_time = time.time()\n",
    "communities = lg.find_partition(graph_lfr,lg.ModularityVertexPartition)\n",
    "end_time = time.time()\n",
    "print('experiment 8')\n",
    "print('run time:',end_time - start_time)\n",
    "print('Number of community:',len(communities))"
   ]
  },
  {
   "cell_type": "code",
   "execution_count": 16,
   "id": "a301fe2e",
   "metadata": {},
   "outputs": [
    {
     "name": "stdout",
     "output_type": "stream",
     "text": [
      "experiment 9\n",
      "run time: 0.001993417739868164\n",
      "Number of community: 18\n"
     ]
    }
   ],
   "source": [
    "graph_lfr = import_nx_network(G_lfr_3)\n",
    "start_time = time.time()\n",
    "communities = lg.find_partition(graph_lfr,lg.ModularityVertexPartition)\n",
    "end_time = time.time()\n",
    "print('experiment 9')\n",
    "print('run time:',end_time - start_time)\n",
    "print('Number of community:',len(communities))"
   ]
  },
  {
   "cell_type": "markdown",
   "id": "dcd413ee",
   "metadata": {},
   "source": [
    "## Community Detection based on  COMBO algorithm"
   ]
  },
  {
   "cell_type": "code",
   "execution_count": 17,
   "id": "2e6e4404",
   "metadata": {},
   "outputs": [],
   "source": [
    "#pip install pycombo\n",
    "import pycombo"
   ]
  },
  {
   "cell_type": "code",
   "execution_count": 18,
   "id": "077d90c7",
   "metadata": {},
   "outputs": [
    {
     "name": "stdout",
     "output_type": "stream",
     "text": [
      "experiment 10\n",
      "run time: 0.0947866439819336\n",
      "Number of of community: 9\n",
      "Modularity of community: 0.48551554324402174\n"
     ]
    }
   ],
   "source": [
    "start_time = time.time()\n",
    "communities = pycombo.execute(G_lfr_1)\n",
    "end_time = time.time()\n",
    "c = set(val for val in list(communities[0].values()))\n",
    "print('experiment 10')\n",
    "print('run time:',end_time - start_time)\n",
    "print('Number of of community:',len(c))\n",
    "print('Modularity of community:',communities[1])"
   ]
  },
  {
   "cell_type": "code",
   "execution_count": 19,
   "id": "57f73c25",
   "metadata": {},
   "outputs": [
    {
     "name": "stdout",
     "output_type": "stream",
     "text": [
      "experiment 11\n",
      "run time: 0.0673828125\n",
      "Number of of community: 11\n",
      "Modularity of community: 0.8265094795314495\n"
     ]
    }
   ],
   "source": [
    "start_time = time.time()\n",
    "communities = pycombo.execute(G_lfr_2)\n",
    "end_time = time.time()\n",
    "c = set(val for val in list(communities[0].values()))\n",
    "print('experiment 11')\n",
    "print('run time:',end_time - start_time)\n",
    "print('Number of of community:',len(c))\n",
    "print('Modularity of community:',communities[1])"
   ]
  },
  {
   "cell_type": "code",
   "execution_count": 20,
   "id": "dfae42ec",
   "metadata": {},
   "outputs": [
    {
     "name": "stdout",
     "output_type": "stream",
     "text": [
      "experiment 12\n",
      "run time: 0.12922000885009766\n",
      "Number of of community: 18\n",
      "Modularity of community: 0.8713218276796882\n"
     ]
    }
   ],
   "source": [
    "start_time = time.time()\n",
    "communities = pycombo.execute(G_lfr_3)\n",
    "end_time = time.time()\n",
    "c = set(val for val in list(communities[0].values()))\n",
    "print('experiment 12')\n",
    "print('run time:',end_time - start_time)\n",
    "print('Number of of community:',len(c))\n",
    "print('Modularity of community:',communities[1])"
   ]
  },
  {
   "cell_type": "markdown",
   "id": "49e120ab",
   "metadata": {},
   "source": [
    "## Community Detection based eigenvectors"
   ]
  },
  {
   "cell_type": "code",
   "execution_count": 21,
   "id": "ffded14b",
   "metadata": {},
   "outputs": [],
   "source": [
    "#pip install cdlib\n",
    "from cdlib import algorithms"
   ]
  },
  {
   "cell_type": "code",
   "execution_count": 22,
   "id": "419c7097",
   "metadata": {},
   "outputs": [
    {
     "name": "stdout",
     "output_type": "stream",
     "text": [
      "experiment 13\n",
      "run time: 0.040917396545410156\n",
      "Number of of community: 18\n"
     ]
    }
   ],
   "source": [
    "start_time = time.time()\n",
    "communities = algorithms.eigenvector(G_lfr_1)\n",
    "end_time = time.time()\n",
    "print('experiment 13')\n",
    "print('run time:',end_time - start_time)\n",
    "print('Number of of community:',len(communities.communities))"
   ]
  },
  {
   "cell_type": "code",
   "execution_count": 23,
   "id": "1f889466",
   "metadata": {},
   "outputs": [
    {
     "name": "stdout",
     "output_type": "stream",
     "text": [
      "experiment 14\n",
      "run time: 0.04690814018249512\n",
      "Number of of community: 16\n"
     ]
    }
   ],
   "source": [
    "start_time = time.time()\n",
    "communities = algorithms.eigenvector(G_lfr_2)\n",
    "end_time = time.time()\n",
    "print('experiment 14')\n",
    "print('run time:',end_time - start_time)\n",
    "print('Number of of community:',len(communities.communities))"
   ]
  },
  {
   "cell_type": "code",
   "execution_count": 24,
   "id": "629734df",
   "metadata": {},
   "outputs": [
    {
     "name": "stdout",
     "output_type": "stream",
     "text": [
      "experiment 15\n",
      "run time: 0.07935738563537598\n",
      "Number of of community: 30\n"
     ]
    }
   ],
   "source": [
    "start_time = time.time()\n",
    "communities = algorithms.eigenvector(G_lfr_3)\n",
    "end_time = time.time()\n",
    "print('experiment 15')\n",
    "print('run time:',end_time - start_time)\n",
    "print('Number of of community:',len(communities.communities))"
   ]
  }
 ],
 "metadata": {
  "kernelspec": {
   "display_name": "Python 3 (ipykernel)",
   "language": "python",
   "name": "python3"
  },
  "language_info": {
   "codemirror_mode": {
    "name": "ipython",
    "version": 3
   },
   "file_extension": ".py",
   "mimetype": "text/x-python",
   "name": "python",
   "nbconvert_exporter": "python",
   "pygments_lexer": "ipython3",
   "version": "3.9.7"
  }
 },
 "nbformat": 4,
 "nbformat_minor": 5
}
